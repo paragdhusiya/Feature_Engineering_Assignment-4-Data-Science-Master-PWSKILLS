{
 "cells": [
  {
   "cell_type": "markdown",
   "metadata": {},
   "source": [
    "Q1. What is the difference between Ordinal Encoding and Label Encoding? Provide an example of when you\n",
    "might choose one over the other."
   ]
  },
  {
   "cell_type": "code",
   "execution_count": 1,
   "metadata": {},
   "outputs": [
    {
     "name": "stdout",
     "output_type": "stream",
     "text": [
      "      Education_Level  Salary  Education_Level_Ordinal  Education_Level_Label\n",
      "0         High School   40000                        1                      1\n",
      "1  Associate's Degree   50000                        2                      2\n",
      "2   Bachelor's Degree   60000                        3                      3\n",
      "3     Master's Degree   80000                        4                      4\n",
      "4               Ph.D.  100000                        5                      5\n"
     ]
    }
   ],
   "source": [
    "import pandas as pd\n",
    "\n",
    "# Sample dataset\n",
    "data = {\n",
    "    'Education_Level': ['High School', 'Associate\\'s Degree', 'Bachelor\\'s Degree', 'Master\\'s Degree', 'Ph.D.'],\n",
    "    'Salary': [40000, 50000, 60000, 80000, 100000],\n",
    "}\n",
    "\n",
    "df = pd.DataFrame(data)\n",
    "\n",
    "# Ordinal Encoding\n",
    "education_mapping = {'High School': 1, 'Associate\\'s Degree': 2, 'Bachelor\\'s Degree': 3, 'Master\\'s Degree': 4, 'Ph.D.': 5}\n",
    "df['Education_Level_Ordinal'] = df['Education_Level'].map(education_mapping)\n",
    "\n",
    "# Label Encoding\n",
    "df['Education_Level_Label'] = pd.factorize(df['Education_Level'])[0] + 1\n",
    "\n",
    "# Display the result\n",
    "print(df)\n"
   ]
  },
  {
   "cell_type": "markdown",
   "metadata": {},
   "source": [
    "Q2. Explain how Target Guided Ordinal Encoding works and provide an example of when you might use it in\n",
    "a machine learning project."
   ]
  },
  {
   "cell_type": "code",
   "execution_count": 2,
   "metadata": {},
   "outputs": [
    {
     "name": "stdout",
     "output_type": "stream",
     "text": [
      "  Credit_Score_Categories  Default  Credit_Score_Encoded\n",
      "0                    Poor        1                     3\n",
      "1                    Fair        0                     1\n",
      "2                    Good        1                     2\n",
      "3               Excellent        0                     0\n",
      "4                    Poor        1                     3\n",
      "5               Excellent        0                     0\n"
     ]
    }
   ],
   "source": [
    "import pandas as pd\n",
    "\n",
    "# Sample dataset\n",
    "data = {\n",
    "    'Credit_Score_Categories': ['Poor', 'Fair', 'Good', 'Excellent', 'Poor', 'Excellent'],\n",
    "    'Default': [1, 0, 1, 0, 1, 0],  # 1: Default, 0: No Default\n",
    "}\n",
    "\n",
    "df = pd.DataFrame(data)\n",
    "\n",
    "# Target Guided Ordinal Encoding\n",
    "mean_target_by_category = df.groupby('Credit_Score_Categories')['Default'].mean().sort_values()\n",
    "ordinal_mapping = {category: rank for rank, (category, _) in enumerate(mean_target_by_category.items())}\n",
    "\n",
    "df['Credit_Score_Encoded'] = df['Credit_Score_Categories'].map(ordinal_mapping)\n",
    "\n",
    "# Display the result\n",
    "print(df)\n"
   ]
  },
  {
   "cell_type": "markdown",
   "metadata": {},
   "source": [
    "Q3. Define covariance and explain why it is important in statistical analysis. How is covariance calculated?"
   ]
  },
  {
   "cell_type": "code",
   "execution_count": 3,
   "metadata": {},
   "outputs": [
    {
     "name": "stdout",
     "output_type": "stream",
     "text": [
      "Covariance between X and Y: 2.25\n"
     ]
    }
   ],
   "source": [
    "import numpy as np\n",
    "\n",
    "# Sample data\n",
    "X = np.array([1, 2, 3, 4, 5])\n",
    "Y = np.array([2, 3, 5, 4, 6])\n",
    "\n",
    "# Calculate mean of X and Y\n",
    "mean_X = np.mean(X)\n",
    "mean_Y = np.mean(Y)\n",
    "\n",
    "# Calculate covariance\n",
    "covariance = np.sum((X - mean_X) * (Y - mean_Y)) / (len(X) - 1)\n",
    "\n",
    "print(\"Covariance between X and Y:\", covariance)\n"
   ]
  },
  {
   "cell_type": "markdown",
   "metadata": {},
   "source": [
    "Q4. For a dataset with the following categorical variables: Color (red, green, blue), Size (small, medium,\n",
    "large), and Material (wood, metal, plastic), perform label encoding using Python's scikit-learn library.\n",
    "Show your code and explain the output."
   ]
  },
  {
   "cell_type": "code",
   "execution_count": 4,
   "metadata": {},
   "outputs": [
    {
     "name": "stdout",
     "output_type": "stream",
     "text": [
      "   Color    Size Material  Color_LabelEncoded  Size_LabelEncoded  \\\n",
      "0    red  medium     wood                   2                  1   \n",
      "1  green   small    metal                   1                  2   \n",
      "2   blue   large  plastic                   0                  0   \n",
      "3    red  medium    metal                   2                  1   \n",
      "4   blue   small     wood                   0                  2   \n",
      "\n",
      "   Material_LabelEncoded  \n",
      "0                      2  \n",
      "1                      0  \n",
      "2                      1  \n",
      "3                      0  \n",
      "4                      2  \n"
     ]
    }
   ],
   "source": [
    "from sklearn.preprocessing import LabelEncoder\n",
    "import pandas as pd\n",
    "\n",
    "# Sample dataset\n",
    "data = {\n",
    "    'Color': ['red', 'green', 'blue', 'red', 'blue'],\n",
    "    'Size': ['medium', 'small', 'large', 'medium', 'small'],\n",
    "    'Material': ['wood', 'metal', 'plastic', 'metal', 'wood']\n",
    "}\n",
    "\n",
    "df = pd.DataFrame(data)\n",
    "\n",
    "# Initialize LabelEncoder\n",
    "label_encoder = LabelEncoder()\n",
    "\n",
    "# Apply label encoding to each categorical column\n",
    "df['Color_LabelEncoded'] = label_encoder.fit_transform(df['Color'])\n",
    "df['Size_LabelEncoded'] = label_encoder.fit_transform(df['Size'])\n",
    "df['Material_LabelEncoded'] = label_encoder.fit_transform(df['Material'])\n",
    "\n",
    "# Display the result\n",
    "print(df)\n"
   ]
  },
  {
   "cell_type": "markdown",
   "metadata": {},
   "source": [
    "Q5. Calculate the covariance matrix for the following variables in a dataset: Age, Income, and Education\n",
    "level. Interpret the results."
   ]
  },
  {
   "cell_type": "code",
   "execution_count": 5,
   "metadata": {},
   "outputs": [
    {
     "name": "stdout",
     "output_type": "stream",
     "text": [
      "Covariance Matrix:\n",
      "[[ 5.33e+01  1.15e+05 -3.15e+00]\n",
      " [ 1.15e+05  2.50e+08 -7.50e+03]\n",
      " [-3.15e+00 -7.50e+03  7.00e-01]]\n"
     ]
    }
   ],
   "source": [
    "import numpy as np\n",
    "import pandas as pd\n",
    "\n",
    "# Sample dataset\n",
    "data = {\n",
    "    'Age': [25, 30, 22, 35, 40],\n",
    "    'Income': [50000, 60000, 40000, 70000, 80000],\n",
    "    'Education_Level': [1, 2, 3, 2, 1],  # Assuming ordinal encoding: 1 - High School, 2 - Bachelor's, 3 - Master's\n",
    "}\n",
    "\n",
    "df = pd.DataFrame(data)\n",
    "\n",
    "# Calculate the covariance matrix\n",
    "covariance_matrix = np.cov(df, rowvar=False)\n",
    "\n",
    "# Display the covariance matrix\n",
    "print(\"Covariance Matrix:\")\n",
    "print(covariance_matrix)\n"
   ]
  },
  {
   "cell_type": "markdown",
   "metadata": {},
   "source": [
    "Q6. You are working on a machine learning project with a dataset containing several categorical\n",
    "variables, including \"Gender\" (Male/Female), \"Education Level\" (High School/Bachelor's/Master's/PhD),\n",
    "and \"Employment Status\" (Unemployed/Part-Time/Full-Time). Which encoding method would you use for\n",
    "each variable, and why?"
   ]
  },
  {
   "cell_type": "code",
   "execution_count": 7,
   "metadata": {},
   "outputs": [
    {
     "name": "stdout",
     "output_type": "stream",
     "text": [
      "Encoded DataFrame:\n",
      "   Gender_0  Gender_1 Education_Level Employment_Status\n",
      "0         0         1      Bachelor's         Full-Time\n",
      "1         1         0        Master's         Part-Time\n",
      "2         0         1             PhD        Unemployed\n",
      "3         1         0      Bachelor's         Part-Time\n",
      "4         0         1     High School         Full-Time\n"
     ]
    }
   ],
   "source": [
    "import pandas as pd\n",
    "from category_encoders import BinaryEncoder\n",
    "\n",
    "# Sample dataset\n",
    "data = {\n",
    "    'Gender': ['Male', 'Female', 'Male', 'Female', 'Male'],\n",
    "    'Education_Level': ['Bachelor\\'s', 'Master\\'s', 'PhD', 'Bachelor\\'s', 'High School'],\n",
    "    'Employment_Status': ['Full-Time', 'Part-Time', 'Unemployed', 'Part-Time', 'Full-Time'],\n",
    "}\n",
    "\n",
    "df = pd.DataFrame(data)\n",
    "\n",
    "# Binary encoding for 'Gender'\n",
    "binary_encoder = BinaryEncoder(cols=['Gender'])\n",
    "df_encoded = binary_encoder.fit_transform(df)\n",
    "\n",
    "print(\"Encoded DataFrame:\")\n",
    "print(df_encoded)\n",
    "\n",
    "\n",
    "# Ordinal encoding for 'Education_Level'\n",
    "education_mapping = {'High School': 1, 'Bachelor\\'s': 2, 'Master\\'s': 3, 'PhD': 4}\n",
    "df['Education_Level_Encoded'] = df['Education_Level'].map(education_mapping)\n",
    "\n",
    "# One-hot encoding for 'Employment_Status'\n",
    "df_encoded = pd.get_dummies(df, columns=['Employment_Status'], prefix='Employment')\n"
   ]
  },
  {
   "cell_type": "markdown",
   "metadata": {},
   "source": [
    "Q7. You are analyzing a dataset with two continuous variables, \"Temperature\" and \"Humidity\", and two\n",
    "categorical variables, \"Weather Condition\" (Sunny/Cloudy/Rainy) and \"Wind Direction\" (North/South/\n",
    "East/West). Calculate the covariance between each pair of variables and interpret the results."
   ]
  },
  {
   "cell_type": "code",
   "execution_count": 9,
   "metadata": {},
   "outputs": [
    {
     "name": "stdout",
     "output_type": "stream",
     "text": [
      "Covariance Matrix:\n",
      "             Temperature  Humidity\n",
      "Temperature         17.0     -25.0\n",
      "Humidity           -25.0      92.5\n"
     ]
    }
   ],
   "source": [
    "import pandas as pd\n",
    "\n",
    "# Sample dataset\n",
    "data = {\n",
    "    'Temperature': [25, 20, 22, 28, 30],\n",
    "    'Humidity': [60, 70, 75, 50, 65],\n",
    "    'Weather_Condition': ['Sunny', 'Cloudy', 'Rainy', 'Sunny', 'Cloudy'],\n",
    "    'Wind_Direction': ['North', 'South', 'East', 'West', 'North'],\n",
    "}\n",
    "\n",
    "df = pd.DataFrame(data)\n",
    "\n",
    "# Select only numeric columns for covariance calculation\n",
    "numeric_columns = df.select_dtypes(include=['number'])\n",
    "covariance_matrix = numeric_columns.cov()\n",
    "\n",
    "# Display covariance matrix\n",
    "print(\"Covariance Matrix:\")\n",
    "print(covariance_matrix)\n"
   ]
  }
 ],
 "metadata": {
  "kernelspec": {
   "display_name": "Python 3",
   "language": "python",
   "name": "python3"
  },
  "language_info": {
   "codemirror_mode": {
    "name": "ipython",
    "version": 3
   },
   "file_extension": ".py",
   "mimetype": "text/x-python",
   "name": "python",
   "nbconvert_exporter": "python",
   "pygments_lexer": "ipython3",
   "version": "3.11.3"
  }
 },
 "nbformat": 4,
 "nbformat_minor": 2
}
